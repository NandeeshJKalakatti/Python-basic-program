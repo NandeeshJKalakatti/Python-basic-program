{
 "cells": [
  {
   "cell_type": "code",
   "execution_count": 1,
   "id": "2bfb679d",
   "metadata": {},
   "outputs": [
    {
     "name": "stdout",
     "output_type": "stream",
     "text": [
      "\n",
      "                   *******************************************************************************\n",
      "          |                   |                  |                     |\n",
      " _________|________________.=\"\"_;=.______________|_____________________|_______\n",
      "|                   |  ,-\"_,=\"\"     `\"=.|                  |\n",
      "|___________________|__\"=._o`\"-._        `\"=.______________|___________________\n",
      "          |                `\"=._o`\"=._      _`\"=._                     |\n",
      " _________|_____________________:=._o \"=._.\"_.-=\"'\"=.__________________|_______\n",
      "|                   |    __.--\" , ; `\"=._o.\" ,-\"\"\"-._ \".   |\n",
      "|___________________|_._\"  ,. .` ` `` ,  `\"-._\"-._   \". '__|___________________\n",
      "          |           |o`\"=._` , \"` `; .\". ,  \"-._\"-._; ;              |\n",
      " _________|___________| ;`-.o`\"=._; .\" ` '`.\"\\` . \"-._ /_______________|_______\n",
      "|                   | |o;    `\"-.o`\"=._``  '` \" ,__.--o;   |\n",
      "|___________________|_| ;     (#) `-.o `\"=.`_.--\"_o.-; ;___|___________________\n",
      "____/______/______/___|o;._    \"      `\".o|o_.--\"    ;o;____/______/______/____\n",
      "/______/______/______/_\"=._o--._        ; | ;        ; ;/______/______/______/_\n",
      "____/______/______/______/__\"=._o--._   ;o|o;     _._;o;____/______/______/____\n",
      "/______/______/______/______/____\"=._o._; | ;_.--\"o.--\"_/______/______/______/_\n",
      "____/______/______/______/______/_____\"=.o|o_.--\"\"___/______/______/______/____\n",
      "/______/______/______/______/______/______/______/______/______/______/\n",
      "*******************************************************************************\n",
      "Well come to a treasure Island\n",
      "Your mission is to find treasure\n",
      "you are at the crossroad wheredo you want to go left or right left\n",
      "you'r come to a lack tier is an island in the middle of the lake . type 'Wait' to Wait for boat or type 'swim' to swim acrosswait\n",
      "you are arrived at the island unharmed. there is a hose with the three doors. one is read, one is is yellow and one is blue which door you choose?.yellow\n",
      "you found a treasure....! you won\n"
     ]
    }
   ],
   "source": [
    "print('''\n",
    "                   *******************************************************************************\n",
    "          |                   |                  |                     |\n",
    " _________|________________.=\"\"_;=.______________|_____________________|_______\n",
    "|                   |  ,-\"_,=\"\"     `\"=.|                  |\n",
    "|___________________|__\"=._o`\"-._        `\"=.______________|___________________\n",
    "          |                `\"=._o`\"=._      _`\"=._                     |\n",
    " _________|_____________________:=._o \"=._.\"_.-=\"'\"=.__________________|_______\n",
    "|                   |    __.--\" , ; `\"=._o.\" ,-\"\"\"-._ \".   |\n",
    "|___________________|_._\"  ,. .` ` `` ,  `\"-._\"-._   \". '__|___________________\n",
    "          |           |o`\"=._` , \"` `; .\". ,  \"-._\"-._; ;              |\n",
    " _________|___________| ;`-.o`\"=._; .\" ` '`.\"\\` . \"-._ /_______________|_______\n",
    "|                   | |o;    `\"-.o`\"=._``  '` \" ,__.--o;   |\n",
    "|___________________|_| ;     (#) `-.o `\"=.`_.--\"_o.-; ;___|___________________\n",
    "____/______/______/___|o;._    \"      `\".o|o_.--\"    ;o;____/______/______/____\n",
    "/______/______/______/_\"=._o--._        ; | ;        ; ;/______/______/______/_\n",
    "____/______/______/______/__\"=._o--._   ;o|o;     _._;o;____/______/______/____\n",
    "/______/______/______/______/____\"=._o._; | ;_.--\"o.--\"_/______/______/______/_\n",
    "____/______/______/______/______/_____\"=.o|o_.--\"\"___/______/______/______/____\n",
    "/______/______/______/______/______/______/______/______/______/______/\n",
    "*******************************************************************************''')\n",
    "print(\"Well come to a treasure Island\")\n",
    "print(\"Your mission is to find treasure\")\n",
    "c1 = input(\"you are at the crossroad wheredo you want to go left or right \").lower()\n",
    "if c1 == \"left\":\n",
    "    c2 = input(\"you'r come to a lack tier is an island in the middle of the lake . type 'Wait' to Wait for boat or type 'swim' to swim across\").lower()\n",
    "else:\n",
    "    print(\"you fell into a hole ...game Over...!\")\n",
    "if c2 == \"wait\":\n",
    "    c3 = input(\"you are arrived at the island unharmed. there is a hose with the three doors. one is read, one is is yellow and one is blue which door you choose?.\").lower()\n",
    "else:\n",
    "    print(\"you  got attacked by angry trout.game over\")\n",
    "if c3 == \"yellow\":\n",
    "  print(\"you found a treasure....! you won\")\n",
    "elif c3==\"red\":\n",
    "    print(\"this room is full of fire >>>>>> game over....!\")\n",
    "elif c3==\"blue\":\n",
    "    print(\"you enterd a ghost room   game over....!\")\n",
    "else:\n",
    "    print(\"You chose a door that doesn't exist ..game over..!s\")"
   ]
  }
 ],
 "metadata": {
  "kernelspec": {
   "display_name": "Python 3 (ipykernel)",
   "language": "python",
   "name": "python3"
  },
  "language_info": {
   "codemirror_mode": {
    "name": "ipython",
    "version": 3
   },
   "file_extension": ".py",
   "mimetype": "text/x-python",
   "name": "python",
   "nbconvert_exporter": "python",
   "pygments_lexer": "ipython3",
   "version": "3.9.12"
  }
 },
 "nbformat": 4,
 "nbformat_minor": 5
}
